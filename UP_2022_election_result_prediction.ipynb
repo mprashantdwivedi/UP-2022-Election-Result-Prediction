{
  "nbformat": 4,
  "nbformat_minor": 0,
  "metadata": {
    "colab": {
      "name": "UP 2022 election result prediction.ipynb",
      "provenance": [],
      "collapsed_sections": []
    },
    "kernelspec": {
      "name": "python3",
      "display_name": "Python 3"
    },
    "language_info": {
      "name": "python"
    }
  },
  "cells": [
    {
      "cell_type": "code",
      "execution_count": null,
      "metadata": {
        "id": "8_JWxTm8yiaR"
      },
      "outputs": [],
      "source": [
        "import pandas as pd\n",
        "import numpy as np\n",
        "import seaborn as sns\n",
        "import matplotlib.pyplot as plt\n",
        "from textblob import TextBlob\n",
        "from wordcloud import WordCloud\n",
        "import plotly.graph_objects as go\n",
        "import plotly.express as px\n",
        "\n",
        "bjp_reviews = pd.read_csv(\"bjp.csv\")\n",
        "bsp_reviews = pd.read_csv(\"bsp.csv\", encoding= 'unicode_escape')\n",
        "sp_reviews = pd.read_csv(\"sp.csv\", encoding= 'unicode_escape')"
      ]
    },
    {
      "cell_type": "code",
      "source": [
        "print(bjp_reviews.head())\n",
        "print(bsp_reviews.head())\n",
        "print(sp_reviews.head())"
      ],
      "metadata": {
        "colab": {
          "base_uri": "https://localhost:8080/"
        },
        "id": "L70bX-XQyv7k",
        "outputId": "92a5ba5b-c930-4f0e-ac32-a6c4c3b16b9b"
      },
      "execution_count": null,
      "outputs": [
        {
          "output_type": "stream",
          "name": "stdout",
          "text": [
            "           user                                               text\n",
            "0   MarkHodder3         @bjp And we’ll find out who won in 2026...\n",
            "1    K87327961G  @bjp Your Democratic   Party cannot be trusted...\n",
            "2      OldlaceA                             @bjp So did Lying Barr\n",
            "3    penblogger  @bjp It's clear you didnt compose this tweet. ...\n",
            "4  Aquarian0264              @bjp I will vote in person thank you.\n",
            "              user                                               text\n",
            "0      manny_rosen   @sanofi please tell us how many shares the Cr...\n",
            "1        osi_abdul   https://t.co/atM98CpqF7  Like, comment, RT #P...\n",
            "2          Patsyrw   Your AG Barr is as useless &amp; corrupt as y...\n",
            "3  seyedebrahimi_m    BSP! Wake Up!  Most of the comments below yo...\n",
            "4    James09254677   After 4 years you think you would have figure...\n",
            "              user                                               text\n",
            "0          mattv68   Thank you for fighting for the American peopl...\n",
            "1  TheGodd69623245   @TheRISEofROD Great job! Isn't the CDC really...\n",
            "2    percypierpont   This says it all, I think. Happy day. https:/...\n",
            "3   robpadilla1983   Pills yea give more vicaden opis the whole wo...\n",
            "4     Bern32110247    SP, what should we make of your absurd tweet...\n"
          ]
        }
      ]
    },
    {
      "cell_type": "code",
      "source": [
        "textblob1 = TextBlob(bjp_reviews[\"text\"][10])\n",
        "print(\"BJP :\",textblob1.sentiment)\n",
        "textblob2 = TextBlob(bsp_reviews[\"text\"][100])\n",
        "print(\"BSP :\",textblob2.sentiment)\n",
        "textblob3 = TextBlob(sp_reviews[\"text\"][200])\n",
        "print(\"SP :\",textblob3.sentiment)"
      ],
      "metadata": {
        "colab": {
          "base_uri": "https://localhost:8080/"
        },
        "id": "L2_GZ8o4y515",
        "outputId": "b427ef67-26b9-41ba-df72-179d2aa2473d"
      },
      "execution_count": null,
      "outputs": [
        {
          "output_type": "stream",
          "name": "stdout",
          "text": [
            "BJP : Sentiment(polarity=0.0, subjectivity=0.0)\n",
            "BSP : Sentiment(polarity=0.125, subjectivity=0.16666666666666666)\n",
            "SP : Sentiment(polarity=-1.0, subjectivity=1.0)\n"
          ]
        }
      ]
    },
    {
      "cell_type": "code",
      "source": [
        "\n",
        "def find_pol(review):\n",
        "    return TextBlob(review).sentiment.polarity\n",
        "bjp_reviews[\"Sentiment Polarity\"] = bjp_reviews[\"text\"].apply(find_pol)\n",
        "print(bjp_reviews.tail())\n",
        "\n",
        "bsp_reviews[\"Sentiment Polarity\"] = bsp_reviews[\"text\"].apply(find_pol)\n",
        "print(bsp_reviews.tail())\n",
        "\n",
        "sp_reviews[\"Sentiment Polarity\"] = sp_reviews[\"text\"].apply(find_pol)\n",
        "print(sp_reviews.tail())\n"
      ],
      "metadata": {
        "colab": {
          "base_uri": "https://localhost:8080/"
        },
        "id": "rVnBosNwy-HV",
        "outputId": "5498bc79-237c-4f72-d247-177f6125fd05"
      },
      "execution_count": null,
      "outputs": [
        {
          "output_type": "stream",
          "name": "stdout",
          "text": [
            "             user  ... Sentiment Polarity\n",
            "2535    meryn1977  ...               0.15\n",
            "2536  BSNelson114  ...               0.00\n",
            "2537     KenCapel  ...               0.00\n",
            "2538   LeslyeHale  ...               0.10\n",
            "2539     rerickre  ...               0.20\n",
            "\n",
            "[5 rows x 3 columns]\n",
            "                 user  ... Sentiment Polarity\n",
            "2782          4diva63  ...              0.000\n",
            "2783         hidge826  ...              0.000\n",
            "2784     SpencerRossy  ...              0.225\n",
            "2785  ScoobyMcpherson  ...              0.000\n",
            "2786          bjklinz  ...             -0.500\n",
            "\n",
            "[5 rows x 3 columns]\n",
            "                user  ... Sentiment Polarity\n",
            "460     MattDillonNC  ...              -0.50\n",
            "461      MMMendoza11  ...              -0.50\n",
            "462      Tacos4tacos  ...               0.00\n",
            "463         PistThug  ...               0.35\n",
            "464  Bertina56941901  ...               0.70\n",
            "\n",
            "[5 rows x 3 columns]\n"
          ]
        }
      ]
    },
    {
      "cell_type": "code",
      "source": [
        "bjp_reviews[\"Expression Label\"] = np.where(bjp_reviews[\"Sentiment Polarity\"]>0, \"positive\", \"negative\")\n",
        "bjp_reviews[\"Expression Label\"][bjp_reviews[\"Sentiment Polarity\"]==0]=\"Neutral\"\n",
        "print(bjp_reviews.tail())\n",
        "\n",
        "bsp_reviews[\"Expression Label\"] = np.where(bsp_reviews[\"Sentiment Polarity\"]>0, \"positive\", \"negative\")\n",
        "# bsp_reviews[\"Expression Label\"][bjp_reviews[\"Sentiment Polarity\"]==0]=\"Neutral\"\n",
        "print(bsp_reviews.tail())\n",
        "\n",
        "sp_reviews[\"Expression Label\"] = np.where(sp_reviews[\"Sentiment Polarity\"]>0, \"positive\", \"negative\")\n",
        "print(sp_reviews.tail())"
      ],
      "metadata": {
        "colab": {
          "base_uri": "https://localhost:8080/"
        },
        "id": "14dSObv3zBMf",
        "outputId": "f12e6aed-1946-43d4-a8cc-27ed4e0320e4"
      },
      "execution_count": null,
      "outputs": [
        {
          "output_type": "stream",
          "name": "stdout",
          "text": [
            "             user  ... Expression Label\n",
            "2535    meryn1977  ...         positive\n",
            "2536  BSNelson114  ...          Neutral\n",
            "2537     KenCapel  ...          Neutral\n",
            "2538   LeslyeHale  ...         positive\n",
            "2539     rerickre  ...         positive\n",
            "\n",
            "[5 rows x 4 columns]\n",
            "                 user  ... Expression Label\n",
            "2782          4diva63  ...         negative\n",
            "2783         hidge826  ...         negative\n",
            "2784     SpencerRossy  ...         positive\n",
            "2785  ScoobyMcpherson  ...         negative\n",
            "2786          bjklinz  ...         negative\n",
            "\n",
            "[5 rows x 4 columns]\n",
            "                user  ... Expression Label\n",
            "460     MattDillonNC  ...         negative\n",
            "461      MMMendoza11  ...         negative\n",
            "462      Tacos4tacos  ...         negative\n",
            "463         PistThug  ...         positive\n",
            "464  Bertina56941901  ...         positive\n",
            "\n",
            "[5 rows x 4 columns]\n"
          ]
        },
        {
          "output_type": "stream",
          "name": "stderr",
          "text": [
            "/usr/local/lib/python3.7/dist-packages/ipykernel_launcher.py:2: SettingWithCopyWarning:\n",
            "\n",
            "\n",
            "A value is trying to be set on a copy of a slice from a DataFrame\n",
            "\n",
            "See the caveats in the documentation: https://pandas.pydata.org/pandas-docs/stable/user_guide/indexing.html#returning-a-view-versus-a-copy\n",
            "\n"
          ]
        }
      ]
    },
    {
      "cell_type": "code",
      "source": [
        "\n",
        "reviews1 = bjp_reviews[bjp_reviews['Sentiment Polarity'] == 0.0000]\n",
        "print(reviews1.shape)\n",
        "\n",
        "cond1=bjp_reviews['Sentiment Polarity'].isin(reviews1['Sentiment Polarity'])\n",
        "bjp_reviews.drop(bjp_reviews[cond1].index, inplace = True)\n",
        "print(bjp_reviews.shape)\n",
        "\n",
        "reviews2 = bsp_reviews[bsp_reviews['Sentiment Polarity'] == 0.0000]\n",
        "print(reviews2.shape)\n",
        "\n",
        "cond2=bsp_reviews['Sentiment Polarity'].isin(reviews1['Sentiment Polarity'])\n",
        "bsp_reviews.drop(bsp_reviews[cond2].index, inplace = True)\n",
        "print(bsp_reviews.shape)\n",
        "\n",
        "reviews2 = sp_reviews[sp_reviews['Sentiment Polarity'] == 0.0000]\n",
        "print(reviews2.shape)\n",
        "\n",
        "cond2=sp_reviews['Sentiment Polarity'].isin(reviews1['Sentiment Polarity'])\n",
        "sp_reviews.drop(sp_reviews[cond2].index, inplace = True)\n",
        "print(sp_reviews.shape)"
      ],
      "metadata": {
        "colab": {
          "base_uri": "https://localhost:8080/"
        },
        "id": "Z-h0bSJWzE23",
        "outputId": "63ba7f1a-904a-48e6-8cad-480f12a065ef"
      },
      "execution_count": null,
      "outputs": [
        {
          "output_type": "stream",
          "name": "stdout",
          "text": [
            "(1509, 4)\n",
            "(1031, 4)\n",
            "(1452, 4)\n",
            "(1335, 4)\n",
            "(222, 4)\n",
            "(243, 4)\n"
          ]
        }
      ]
    },
    {
      "cell_type": "code",
      "source": [
        "# BJP\n",
        "np.random.seed(10)\n",
        "remove_n =324\n",
        "drop_indices = np.random.choice(bjp_reviews.index, remove_n, replace=False)\n",
        "df_subset_bjp = bjp_reviews.drop(drop_indices)\n",
        "print(df_subset_bjp.shape)\n",
        "# BSP\n",
        "np.random.seed(10)\n",
        "remove_n =31\n",
        "drop_indices = np.random.choice(bsp_reviews.index, remove_n, replace=False)\n",
        "df_subset_bsp = bsp_reviews.drop(drop_indices)\n",
        "print(df_subset_bsp.shape)\n",
        "# BSP\n",
        "np.random.seed(10)\n",
        "remove_n =31\n",
        "drop_indices = np.random.choice(sp_reviews.index, remove_n, replace=False)\n",
        "df_subset_sp = sp_reviews.drop(drop_indices)\n",
        "print(df_subset_sp.shape)"
      ],
      "metadata": {
        "colab": {
          "base_uri": "https://localhost:8080/"
        },
        "id": "AlIi9xVAzICz",
        "outputId": "fd0e6caf-9c58-4ebe-cc0e-716ac571ecf7"
      },
      "execution_count": null,
      "outputs": [
        {
          "output_type": "stream",
          "name": "stdout",
          "text": [
            "(707, 4)\n",
            "(1304, 4)\n",
            "(212, 4)\n"
          ]
        }
      ]
    },
    {
      "cell_type": "code",
      "source": [
        "count_1 = df_subset_bsp.groupby('Expression Label').count()\n",
        "print(count_1)\n",
        "\n",
        "negative_per1 = (count_1['Sentiment Polarity'][0]/1000)*10\n",
        "positive_per1 = (count_1['Sentiment Polarity'][1]/1000)*100\n",
        "\n",
        "count_2 = df_subset_sp.groupby('Expression Label').count()\n",
        "print(count_2)\n",
        "\n",
        "negative_per2 = (count_2['Sentiment Polarity'][0]/1000)*100\n",
        "positive_per2 = (count_2['Sentiment Polarity'][1]/1000)*100\n",
        "\n",
        "count_3 = df_subset_bjp.groupby('Expression Label').count()\n",
        "print(count_3)\n",
        "\n",
        "negative_per3 = (count_3['Sentiment Polarity'][0]/1000)*100\n",
        "positive_per3 = (count_3['Sentiment Polarity'][1]/1000)*100\n",
        "\n",
        "Politicians = ['BJP', 'BSP', 'SP']\n",
        "lis_pos = [positive_per1, positive_per2, positive_per3]\n",
        "lis_neg = [negative_per1, negative_per2, negative_per3]\n",
        "\n",
        "fig = go.Figure(data=[\n",
        "    go.Bar(name='Positive', x=Politicians, y=lis_pos),\n",
        "    go.Bar(name='Negative', x=Politicians, y=lis_neg)\n",
        "])\n",
        "# Change the bar mode\n",
        "fig.update_layout(barmode='group')\n",
        "fig.show()"
      ],
      "metadata": {
        "colab": {
          "base_uri": "https://localhost:8080/",
          "height": 742
        },
        "id": "pmNGn271zLQy",
        "outputId": "9b06ab08-e428-466d-cc52-b1fae33d0ac6"
      },
      "execution_count": null,
      "outputs": [
        {
          "output_type": "stream",
          "name": "stdout",
          "text": [
            "                  user  text  Sentiment Polarity\n",
            "Expression Label                                \n",
            "negative           585   585                 585\n",
            "positive           719   719                 719\n",
            "                  user  text  Sentiment Polarity\n",
            "Expression Label                                \n",
            "negative            89    89                  89\n",
            "positive           123   123                 123\n",
            "                  user  text  Sentiment Polarity\n",
            "Expression Label                                \n",
            "negative           273   273                 273\n",
            "positive           434   434                 434\n"
          ]
        },
        {
          "output_type": "display_data",
          "data": {
            "text/html": [
              "<html>\n",
              "<head><meta charset=\"utf-8\" /></head>\n",
              "<body>\n",
              "    <div>\n",
              "            <script src=\"https://cdnjs.cloudflare.com/ajax/libs/mathjax/2.7.5/MathJax.js?config=TeX-AMS-MML_SVG\"></script><script type=\"text/javascript\">if (window.MathJax) {MathJax.Hub.Config({SVG: {font: \"STIX-Web\"}});}</script>\n",
              "                <script type=\"text/javascript\">window.PlotlyConfig = {MathJaxConfig: 'local'};</script>\n",
              "        <script src=\"https://cdn.plot.ly/plotly-latest.min.js\"></script>    \n",
              "            <div id=\"71766d22-ef7b-4056-b52b-dc621aacfe33\" class=\"plotly-graph-div\" style=\"height:525px; width:100%;\"></div>\n",
              "            <script type=\"text/javascript\">\n",
              "                \n",
              "                    window.PLOTLYENV=window.PLOTLYENV || {};\n",
              "                    \n",
              "                if (document.getElementById(\"71766d22-ef7b-4056-b52b-dc621aacfe33\")) {\n",
              "                    Plotly.newPlot(\n",
              "                        '71766d22-ef7b-4056-b52b-dc621aacfe33',\n",
              "                        [{\"name\": \"Positive\", \"type\": \"bar\", \"x\": [\"BJP\", \"BSP\", \"SP\"], \"y\": [71.89999999999999, 12.3, 43.4]}, {\"name\": \"Negative\", \"type\": \"bar\", \"x\": [\"BJP\", \"BSP\", \"SP\"], \"y\": [5.85, 8.9, 27.3]}],\n",
              "                        {\"barmode\": \"group\", \"template\": {\"data\": {\"bar\": [{\"error_x\": {\"color\": \"#2a3f5f\"}, \"error_y\": {\"color\": \"#2a3f5f\"}, \"marker\": {\"line\": {\"color\": \"#E5ECF6\", \"width\": 0.5}}, \"type\": \"bar\"}], \"barpolar\": [{\"marker\": {\"line\": {\"color\": \"#E5ECF6\", \"width\": 0.5}}, \"type\": \"barpolar\"}], \"carpet\": [{\"aaxis\": {\"endlinecolor\": \"#2a3f5f\", \"gridcolor\": \"white\", \"linecolor\": \"white\", \"minorgridcolor\": \"white\", \"startlinecolor\": \"#2a3f5f\"}, \"baxis\": {\"endlinecolor\": \"#2a3f5f\", \"gridcolor\": \"white\", \"linecolor\": \"white\", \"minorgridcolor\": \"white\", \"startlinecolor\": \"#2a3f5f\"}, \"type\": \"carpet\"}], \"choropleth\": [{\"colorbar\": {\"outlinewidth\": 0, \"ticks\": \"\"}, \"type\": \"choropleth\"}], \"contour\": [{\"colorbar\": {\"outlinewidth\": 0, \"ticks\": \"\"}, \"colorscale\": [[0.0, \"#0d0887\"], [0.1111111111111111, \"#46039f\"], [0.2222222222222222, \"#7201a8\"], [0.3333333333333333, \"#9c179e\"], [0.4444444444444444, \"#bd3786\"], [0.5555555555555556, \"#d8576b\"], [0.6666666666666666, \"#ed7953\"], [0.7777777777777778, \"#fb9f3a\"], [0.8888888888888888, \"#fdca26\"], [1.0, \"#f0f921\"]], \"type\": \"contour\"}], \"contourcarpet\": [{\"colorbar\": {\"outlinewidth\": 0, \"ticks\": \"\"}, \"type\": \"contourcarpet\"}], \"heatmap\": [{\"colorbar\": {\"outlinewidth\": 0, \"ticks\": \"\"}, \"colorscale\": [[0.0, \"#0d0887\"], [0.1111111111111111, \"#46039f\"], [0.2222222222222222, \"#7201a8\"], [0.3333333333333333, \"#9c179e\"], [0.4444444444444444, \"#bd3786\"], [0.5555555555555556, \"#d8576b\"], [0.6666666666666666, \"#ed7953\"], [0.7777777777777778, \"#fb9f3a\"], [0.8888888888888888, \"#fdca26\"], [1.0, \"#f0f921\"]], \"type\": \"heatmap\"}], \"heatmapgl\": [{\"colorbar\": {\"outlinewidth\": 0, \"ticks\": \"\"}, \"colorscale\": [[0.0, \"#0d0887\"], [0.1111111111111111, \"#46039f\"], [0.2222222222222222, \"#7201a8\"], [0.3333333333333333, \"#9c179e\"], [0.4444444444444444, \"#bd3786\"], [0.5555555555555556, \"#d8576b\"], [0.6666666666666666, \"#ed7953\"], [0.7777777777777778, \"#fb9f3a\"], [0.8888888888888888, \"#fdca26\"], [1.0, \"#f0f921\"]], \"type\": \"heatmapgl\"}], \"histogram\": [{\"marker\": {\"colorbar\": {\"outlinewidth\": 0, \"ticks\": \"\"}}, \"type\": \"histogram\"}], \"histogram2d\": [{\"colorbar\": {\"outlinewidth\": 0, \"ticks\": \"\"}, \"colorscale\": [[0.0, \"#0d0887\"], [0.1111111111111111, \"#46039f\"], [0.2222222222222222, \"#7201a8\"], [0.3333333333333333, \"#9c179e\"], [0.4444444444444444, \"#bd3786\"], [0.5555555555555556, \"#d8576b\"], [0.6666666666666666, \"#ed7953\"], [0.7777777777777778, \"#fb9f3a\"], [0.8888888888888888, \"#fdca26\"], [1.0, \"#f0f921\"]], \"type\": \"histogram2d\"}], \"histogram2dcontour\": [{\"colorbar\": {\"outlinewidth\": 0, \"ticks\": \"\"}, \"colorscale\": [[0.0, \"#0d0887\"], [0.1111111111111111, \"#46039f\"], [0.2222222222222222, \"#7201a8\"], [0.3333333333333333, \"#9c179e\"], [0.4444444444444444, \"#bd3786\"], [0.5555555555555556, \"#d8576b\"], [0.6666666666666666, \"#ed7953\"], [0.7777777777777778, \"#fb9f3a\"], [0.8888888888888888, \"#fdca26\"], [1.0, \"#f0f921\"]], \"type\": \"histogram2dcontour\"}], \"mesh3d\": [{\"colorbar\": {\"outlinewidth\": 0, \"ticks\": \"\"}, \"type\": \"mesh3d\"}], \"parcoords\": [{\"line\": {\"colorbar\": {\"outlinewidth\": 0, \"ticks\": \"\"}}, \"type\": \"parcoords\"}], \"pie\": [{\"automargin\": true, \"type\": \"pie\"}], \"scatter\": [{\"marker\": {\"colorbar\": {\"outlinewidth\": 0, \"ticks\": \"\"}}, \"type\": \"scatter\"}], \"scatter3d\": [{\"line\": {\"colorbar\": {\"outlinewidth\": 0, \"ticks\": \"\"}}, \"marker\": {\"colorbar\": {\"outlinewidth\": 0, \"ticks\": \"\"}}, \"type\": \"scatter3d\"}], \"scattercarpet\": [{\"marker\": {\"colorbar\": {\"outlinewidth\": 0, \"ticks\": \"\"}}, \"type\": \"scattercarpet\"}], \"scattergeo\": [{\"marker\": {\"colorbar\": {\"outlinewidth\": 0, \"ticks\": \"\"}}, \"type\": \"scattergeo\"}], \"scattergl\": [{\"marker\": {\"colorbar\": {\"outlinewidth\": 0, \"ticks\": \"\"}}, \"type\": \"scattergl\"}], \"scattermapbox\": [{\"marker\": {\"colorbar\": {\"outlinewidth\": 0, \"ticks\": \"\"}}, \"type\": \"scattermapbox\"}], \"scatterpolar\": [{\"marker\": {\"colorbar\": {\"outlinewidth\": 0, \"ticks\": \"\"}}, \"type\": \"scatterpolar\"}], \"scatterpolargl\": [{\"marker\": {\"colorbar\": {\"outlinewidth\": 0, \"ticks\": \"\"}}, \"type\": \"scatterpolargl\"}], \"scatterternary\": [{\"marker\": {\"colorbar\": {\"outlinewidth\": 0, \"ticks\": \"\"}}, \"type\": \"scatterternary\"}], \"surface\": [{\"colorbar\": {\"outlinewidth\": 0, \"ticks\": \"\"}, \"colorscale\": [[0.0, \"#0d0887\"], [0.1111111111111111, \"#46039f\"], [0.2222222222222222, \"#7201a8\"], [0.3333333333333333, \"#9c179e\"], [0.4444444444444444, \"#bd3786\"], [0.5555555555555556, \"#d8576b\"], [0.6666666666666666, \"#ed7953\"], [0.7777777777777778, \"#fb9f3a\"], [0.8888888888888888, \"#fdca26\"], [1.0, \"#f0f921\"]], \"type\": \"surface\"}], \"table\": [{\"cells\": {\"fill\": {\"color\": \"#EBF0F8\"}, \"line\": {\"color\": \"white\"}}, \"header\": {\"fill\": {\"color\": \"#C8D4E3\"}, \"line\": {\"color\": \"white\"}}, \"type\": \"table\"}]}, \"layout\": {\"annotationdefaults\": {\"arrowcolor\": \"#2a3f5f\", \"arrowhead\": 0, \"arrowwidth\": 1}, \"coloraxis\": {\"colorbar\": {\"outlinewidth\": 0, \"ticks\": \"\"}}, \"colorscale\": {\"diverging\": [[0, \"#8e0152\"], [0.1, \"#c51b7d\"], [0.2, \"#de77ae\"], [0.3, \"#f1b6da\"], [0.4, \"#fde0ef\"], [0.5, \"#f7f7f7\"], [0.6, \"#e6f5d0\"], [0.7, \"#b8e186\"], [0.8, \"#7fbc41\"], [0.9, \"#4d9221\"], [1, \"#276419\"]], \"sequential\": [[0.0, \"#0d0887\"], [0.1111111111111111, \"#46039f\"], [0.2222222222222222, \"#7201a8\"], [0.3333333333333333, \"#9c179e\"], [0.4444444444444444, \"#bd3786\"], [0.5555555555555556, \"#d8576b\"], [0.6666666666666666, \"#ed7953\"], [0.7777777777777778, \"#fb9f3a\"], [0.8888888888888888, \"#fdca26\"], [1.0, \"#f0f921\"]], \"sequentialminus\": [[0.0, \"#0d0887\"], [0.1111111111111111, \"#46039f\"], [0.2222222222222222, \"#7201a8\"], [0.3333333333333333, \"#9c179e\"], [0.4444444444444444, \"#bd3786\"], [0.5555555555555556, \"#d8576b\"], [0.6666666666666666, \"#ed7953\"], [0.7777777777777778, \"#fb9f3a\"], [0.8888888888888888, \"#fdca26\"], [1.0, \"#f0f921\"]]}, \"colorway\": [\"#636efa\", \"#EF553B\", \"#00cc96\", \"#ab63fa\", \"#FFA15A\", \"#19d3f3\", \"#FF6692\", \"#B6E880\", \"#FF97FF\", \"#FECB52\"], \"font\": {\"color\": \"#2a3f5f\"}, \"geo\": {\"bgcolor\": \"white\", \"lakecolor\": \"white\", \"landcolor\": \"#E5ECF6\", \"showlakes\": true, \"showland\": true, \"subunitcolor\": \"white\"}, \"hoverlabel\": {\"align\": \"left\"}, \"hovermode\": \"closest\", \"mapbox\": {\"style\": \"light\"}, \"paper_bgcolor\": \"white\", \"plot_bgcolor\": \"#E5ECF6\", \"polar\": {\"angularaxis\": {\"gridcolor\": \"white\", \"linecolor\": \"white\", \"ticks\": \"\"}, \"bgcolor\": \"#E5ECF6\", \"radialaxis\": {\"gridcolor\": \"white\", \"linecolor\": \"white\", \"ticks\": \"\"}}, \"scene\": {\"xaxis\": {\"backgroundcolor\": \"#E5ECF6\", \"gridcolor\": \"white\", \"gridwidth\": 2, \"linecolor\": \"white\", \"showbackground\": true, \"ticks\": \"\", \"zerolinecolor\": \"white\"}, \"yaxis\": {\"backgroundcolor\": \"#E5ECF6\", \"gridcolor\": \"white\", \"gridwidth\": 2, \"linecolor\": \"white\", \"showbackground\": true, \"ticks\": \"\", \"zerolinecolor\": \"white\"}, \"zaxis\": {\"backgroundcolor\": \"#E5ECF6\", \"gridcolor\": \"white\", \"gridwidth\": 2, \"linecolor\": \"white\", \"showbackground\": true, \"ticks\": \"\", \"zerolinecolor\": \"white\"}}, \"shapedefaults\": {\"line\": {\"color\": \"#2a3f5f\"}}, \"ternary\": {\"aaxis\": {\"gridcolor\": \"white\", \"linecolor\": \"white\", \"ticks\": \"\"}, \"baxis\": {\"gridcolor\": \"white\", \"linecolor\": \"white\", \"ticks\": \"\"}, \"bgcolor\": \"#E5ECF6\", \"caxis\": {\"gridcolor\": \"white\", \"linecolor\": \"white\", \"ticks\": \"\"}}, \"title\": {\"x\": 0.05}, \"xaxis\": {\"automargin\": true, \"gridcolor\": \"white\", \"linecolor\": \"white\", \"ticks\": \"\", \"title\": {\"standoff\": 15}, \"zerolinecolor\": \"white\", \"zerolinewidth\": 2}, \"yaxis\": {\"automargin\": true, \"gridcolor\": \"white\", \"linecolor\": \"white\", \"ticks\": \"\", \"title\": {\"standoff\": 15}, \"zerolinecolor\": \"white\", \"zerolinewidth\": 2}}}},\n",
              "                        {\"responsive\": true}\n",
              "                    ).then(function(){\n",
              "                            \n",
              "var gd = document.getElementById('71766d22-ef7b-4056-b52b-dc621aacfe33');\n",
              "var x = new MutationObserver(function (mutations, observer) {{\n",
              "        var display = window.getComputedStyle(gd).display;\n",
              "        if (!display || display === 'none') {{\n",
              "            console.log([gd, 'removed!']);\n",
              "            Plotly.purge(gd);\n",
              "            observer.disconnect();\n",
              "        }}\n",
              "}});\n",
              "\n",
              "// Listen for the removal of the full notebook cells\n",
              "var notebookContainer = gd.closest('#notebook-container');\n",
              "if (notebookContainer) {{\n",
              "    x.observe(notebookContainer, {childList: true});\n",
              "}}\n",
              "\n",
              "// Listen for the clearing of the current output cell\n",
              "var outputEl = gd.closest('.output');\n",
              "if (outputEl) {{\n",
              "    x.observe(outputEl, {childList: true});\n",
              "}}\n",
              "\n",
              "                        })\n",
              "                };\n",
              "                \n",
              "            </script>\n",
              "        </div>\n",
              "</body>\n",
              "</html>"
            ]
          },
          "metadata": {}
        }
      ]
    },
    {
      "cell_type": "code",
      "source": [
        ""
      ],
      "metadata": {
        "id": "GegO-JuRzNqi"
      },
      "execution_count": null,
      "outputs": []
    }
  ]
}